{
 "cells": [
  {
   "cell_type": "markdown",
   "metadata": {},
   "source": [
    "# Factorial"
   ]
  },
  {
   "cell_type": "markdown",
   "metadata": {},
   "source": [
    "#https://www.hackerearth.com/practice/algorithms/dynamic-programming/introduction-to-dynamic-programming-1/tutorial/\n",
    "Given an integer \n",
    "N\n",
    "N, print the factorial of the \n",
    "N\n",
    "N (mod \n",
    "10\n",
    "9\n",
    "+\n",
    "7\n",
    "109+7).\n",
    "\n",
    "Input:\n",
    "First line contains one integer, \n",
    "T\n",
    "T, number of test cases.\n",
    "Each test case contains one integer, \n",
    "N\n",
    "N.\n",
    "\n",
    "Output:\n",
    "For each test case you need to print the factorial of \n",
    "N\n",
    "N (mod \n",
    "10\n",
    "9\n",
    "+\n",
    "7\n",
    "109+7).\n",
    "\n",
    "Constraints:\n",
    " 1\n",
    "≤\n",
    "T\n",
    "≤\n",
    "10\n",
    "5\n",
    "1≤T≤105\n",
    " 0\n",
    "≤\n",
    "N\n",
    "≤\n",
    "10\n",
    "5"
   ]
  },
  {
   "cell_type": "code",
   "execution_count": 3,
   "metadata": {},
   "outputs": [],
   "source": [
    "# Recursive solution to this problem\n",
    "\"\"\"\n",
    "def f(n):\n",
    "    if n = 1 OR n = 2:\n",
    "        return 1;\n",
    "    n = f(n-1) + f(n-2)  \n",
    "    return n\n",
    "\n",
    "\"\"\"\n",
    "\n",
    "# dp solution\n",
    "\n",
    "def fact_special(n):\n",
    "    if (n >= 10000000007):\n",
    "        fact_n = 0\n",
    "    else:\n",
    "        fact_n = 1\n",
    "        for i in range(1,n+1):\n",
    "            fact_n = (fact_n * i) % 10000000007\n",
    "    return fact_n"
   ]
  },
  {
   "cell_type": "code",
   "execution_count": 4,
   "metadata": {},
   "outputs": [
    {
     "data": {
      "text/plain": [
       "'Trivial(Same as fibonacci)'"
      ]
     },
     "execution_count": 4,
     "metadata": {},
     "output_type": "execute_result"
    }
   ],
   "source": [
    "# Proving Overlapping property of subproblems\n",
    "\"\"\"Trivial(Same as fibonacci)\"\"\""
   ]
  },
  {
   "cell_type": "markdown",
   "metadata": {
    "collapsed": true
   },
   "source": [
    "# Proving Optimal substructure property of subproblem\n",
    "Optimal substructure property means that an optimal solution to a proplem will lead to optimal solution to the whole problem \n",
    "\n",
    "Most DP problem can be solved using recursion hence using induction for DP is very usual.\n",
    "\n",
    "Proving for factorial, that the method is optimal:-\n",
    "# Using Contradiction\n",
    "I don't think this problem is DP at all, i am not seeing "
   ]
  },
  {
   "cell_type": "code",
   "execution_count": 2,
   "metadata": {
    "collapsed": true
   },
   "outputs": [],
   "source": [
    "# After trying my solution, i was getting time error, so i have decided to use a lookup table"
   ]
  },
  {
   "cell_type": "code",
   "execution_count": null,
   "metadata": {},
   "outputs": [],
   "source": [
    "fact_table = []\n",
    "t = int(input())\n",
    "for i in "
   ]
  },
  {
   "cell_type": "code",
   "execution_count": null,
   "metadata": {
    "collapsed": true
   },
   "outputs": [],
   "source": []
  }
 ],
 "metadata": {
  "kernelspec": {
   "display_name": "Python 3",
   "language": "python",
   "name": "python3"
  },
  "language_info": {
   "codemirror_mode": {
    "name": "ipython",
    "version": 3
   },
   "file_extension": ".py",
   "mimetype": "text/x-python",
   "name": "python",
   "nbconvert_exporter": "python",
   "pygments_lexer": "ipython3",
   "version": "3.6.1"
  }
 },
 "nbformat": 4,
 "nbformat_minor": 2
}
