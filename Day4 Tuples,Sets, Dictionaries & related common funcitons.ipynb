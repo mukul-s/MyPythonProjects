{
 "cells": [
  {
   "cell_type": "markdown",
   "metadata": {},
   "source": [
    "# 1.Tuples"
   ]
  },
  {
   "cell_type": "markdown",
   "metadata": {},
   "source": [
    "## Accessing Tuples"
   ]
  },
  {
   "cell_type": "code",
   "execution_count": 1,
   "metadata": {
    "collapsed": true
   },
   "outputs": [],
   "source": [
    "# Score of studenet in a database (95/100)\n",
    "tup1 = ('Mukul', 'Physics', 100, 95)"
   ]
  },
  {
   "cell_type": "code",
   "execution_count": 12,
   "metadata": {},
   "outputs": [
    {
     "name": "stdout",
     "output_type": "stream",
     "text": [
      "('Mukul', 'Physics', 100, 95)\n",
      "Mukul\n",
      "100\n",
      "(100, 95)\n",
      "()\n",
      "('Mukul', 'Physics', 100, 95)\n",
      "('Physics', 100, 95)\n"
     ]
    }
   ],
   "source": [
    "print(tup1)\n",
    "print(tup1[0])\n",
    "print(tup1[-2])\n",
    "\n",
    "# print(tup1[-255]) It will give IndexError\n",
    "\n",
    "print(tup1[2:5])\n",
    "print(tup1[len(tup1):]) # It will give an empty string\n",
    "print(tup1[-len(tup1):]) # whole tuple will be printed\n",
    "print(tup1[-len(tup1)+1:]) # First element will be left out"
   ]
  },
  {
   "cell_type": "code",
   "execution_count": null,
   "metadata": {
    "collapsed": true
   },
   "outputs": [],
   "source": []
  }
 ],
 "metadata": {
  "kernelspec": {
   "display_name": "Python 3",
   "language": "python",
   "name": "python3"
  },
  "language_info": {
   "codemirror_mode": {
    "name": "ipython",
    "version": 3
   },
   "file_extension": ".py",
   "mimetype": "text/x-python",
   "name": "python",
   "nbconvert_exporter": "python",
   "pygments_lexer": "ipython3",
   "version": "3.6.1"
  }
 },
 "nbformat": 4,
 "nbformat_minor": 2
}
