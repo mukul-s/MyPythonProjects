{
 "cells": [
  {
   "cell_type": "code",
   "execution_count": 28,
   "metadata": {},
   "outputs": [
    {
     "name": "stdout",
     "output_type": "stream",
     "text": [
      "0\n",
      "\n",
      "i am doing my best here\n",
      "i will bring home a trophy\n",
      "who knows whats gonna happen in future so the only thing we can do is do our best and hope for the best\n",
      "\n",
      "with this message i will be very bitter if i am not able to score a good position, good salary and better work from a reputed company and i will be very happy if i get that. But nonetheless i want to taste that bitterness or sweetness, i want to feel like the man in the arena not the man who make excuses but who delivers his best, actually better than this best.\n",
      "\n",
      "I am growing every seconds. Matte Minna, i will be rocking in few months later.\n",
      "601\n",
      "\n",
      "0\n",
      "0\n",
      "\n",
      "i \n",
      "2\n"
     ]
    },
    {
     "ename": "NameError",
     "evalue": "name 'Rs' is not defined",
     "output_type": "error",
     "traceback": [
      "\u001b[1;31m---------------------------------------------------------------------------\u001b[0m",
      "\u001b[1;31mNameError\u001b[0m                                 Traceback (most recent call last)",
      "\u001b[1;32m<ipython-input-28-ee9426b2e3a7>\u001b[0m in \u001b[0;36m<module>\u001b[1;34m()\u001b[0m\n\u001b[0;32m     16\u001b[0m \u001b[1;33m\u001b[0m\u001b[0m\n\u001b[0;32m     17\u001b[0m     \u001b[0ms\u001b[0m \u001b[1;33m=\u001b[0m \u001b[0mf\u001b[0m\u001b[1;33m.\u001b[0m\u001b[0mread\u001b[0m\u001b[1;33m(\u001b[0m\u001b[1;33m)\u001b[0m \u001b[1;31m#  read(), reads newline as \"\\n\"\u001b[0m\u001b[1;33m\u001b[0m\u001b[0m\n\u001b[1;32m---> 18\u001b[1;33m     \u001b[0mprint\u001b[0m\u001b[1;33m(\u001b[0m\u001b[0mRs\u001b[0m\u001b[1;33m)\u001b[0m\u001b[1;33m\u001b[0m\u001b[0m\n\u001b[0m",
      "\u001b[1;31mNameError\u001b[0m: name 'Rs' is not defined"
     ]
    }
   ],
   "source": [
    "# Using read, tell and seek operation \n",
    "with open(\"untitled.txt\") as f:\n",
    "    print(f.tell()) # will tell the current position of cursor in bytes\n",
    "    print()\n",
    "    \n",
    "    print(f.read()) # It will read till the end of the line\n",
    "    print(f.tell())\n",
    "    print()\n",
    "    \n",
    "    print(f.seek(0)) # It will bring cursor to initial position\n",
    "    print(f.tell())\n",
    "    print()\n",
    "    \n",
    "    print(f.read(2)) # It will read 2 bytes of data\n",
    "    print(f.tell())"
   ]
  },
  {
   "cell_type": "code",
   "execution_count": 32,
   "metadata": {},
   "outputs": [
    {
     "data": {
      "text/plain": [
       "'i am doing my best here\\ni will bring home a trophy\\nwho knows whats gonna happen in future so the only thing we can do is do our best and hope for the best\\n\\nwith this message i will be very bitter if i am not able to score a good position, good salary and better work from a reputed company and i will be very happy if i get that. But nonetheless i want to taste that bitterness or sweetness, i want to feel like the man in the arena not the man who make excuses but who delivers his best, actually better than this best.\\n\\nI am growing every seconds. Matte Minna, i will be rocking in few months later.'"
      ]
     },
     "execution_count": 32,
     "metadata": {},
     "output_type": "execute_result"
    }
   ],
   "source": [
    "# read(), reads newline as \\n\n",
    "f = open(\"untitled.txt\")\n",
    "s = f.read()\n",
    "s"
   ]
  },
  {
   "cell_type": "code",
   "execution_count": null,
   "metadata": {
    "collapsed": true
   },
   "outputs": [],
   "source": []
  }
 ],
 "metadata": {
  "kernelspec": {
   "display_name": "Python 3",
   "language": "python",
   "name": "python3"
  },
  "language_info": {
   "codemirror_mode": {
    "name": "ipython",
    "version": 3
   },
   "file_extension": ".py",
   "mimetype": "text/x-python",
   "name": "python",
   "nbconvert_exporter": "python",
   "pygments_lexer": "ipython3",
   "version": "3.6.1"
  }
 },
 "nbformat": 4,
 "nbformat_minor": 2
}
