{
 "cells": [
  {
   "cell_type": "markdown",
   "metadata": {},
   "source": [
    "Understand this problem by following example:- <br><br>\n",
    "\n",
    "1. N = 1<br>\n",
    "output = \n",
    ">1 <br>\n",
    "\n",
    "2. N = 2 <br>\n",
    "output <br>  \n",
    ">1 2 <br>\n",
    "3 4 <br><br> \n",
    "\n",
    "3. N = 3 <br>\n",
    "output <br>\n",
    ">1 2 3 <br>\n",
    "7 8 9 <br>\n",
    "4 5 6 <br>"
   ]
  },
  {
   "cell_type": "code",
   "execution_count": null,
   "metadata": {
    "collapsed": true
   },
   "outputs": [],
   "source": [
    "\"\"\"first element each row in our square is basically (n*l + 1) where n = square_height and l = line_number\n",
    "so if we get the right order of line number we can print the desired output\"\"\""
   ]
  },
  {
   "cell_type": "code",
   "execution_count": 3,
   "metadata": {},
   "outputs": [
    {
     "name": "stdout",
     "output_type": "stream",
     "text": [
      "5\n"
     ]
    }
   ],
   "source": [
    "# Lets say N is\n",
    "n = int(input().strip())"
   ]
  },
  {
   "cell_type": "code",
   "execution_count": 21,
   "metadata": {},
   "outputs": [],
   "source": [
    "lines = [i for i in range (1, n + 1)]"
   ]
  },
  {
   "cell_type": "code",
   "execution_count": 33,
   "metadata": {},
   "outputs": [
    {
     "name": "stdout",
     "output_type": "stream",
     "text": [
      "[1, 3, 5]\n",
      "[2, 4]\n"
     ]
    }
   ],
   "source": [
    "line_order1 = []\n",
    "line_order2 = []\n",
    "\n",
    "# Reordering lines so we know the staring element of our method\n",
    "for i in lines:\n",
    "    if(i % 2 == 1):\n",
    "        line_order1.append(i)\n",
    "    else:\n",
    "        line_order2.append(i)\n",
    "        \n",
    "print(line_order1)\n",
    "print(line_order2)"
   ]
  },
  {
   "cell_type": "code",
   "execution_count": 34,
   "metadata": {},
   "outputs": [
    {
     "name": "stdout",
     "output_type": "stream",
     "text": [
      "[1, 3, 5, 4, 2]\n"
     ]
    }
   ],
   "source": [
    "# Getting the desired order of lines\n",
    "line_order2.reverse()\n",
    "line_order1.extend(line_order2)\n",
    "print(line_order1)"
   ]
  },
  {
   "cell_type": "code",
   "execution_count": 35,
   "metadata": {},
   "outputs": [
    {
     "name": "stdout",
     "output_type": "stream",
     "text": [
      "1 2 3 4 5 \n",
      "\n",
      "11 12 13 14 15 \n",
      "\n",
      "21 22 23 24 25 \n",
      "\n",
      "16 17 18 19 20 \n",
      "\n",
      "6 7 8 9 10 \n",
      "\n"
     ]
    }
   ],
   "source": [
    "# Now printing the desired square\n",
    "for l in line_order1:\n",
    "    for i in range (1, n+1):\n",
    "        k = n * (l - 1)\n",
    "        print(k + i, end = \" \")\n",
    "    print(\"\\n\")"
   ]
  },
  {
   "cell_type": "code",
   "execution_count": null,
   "metadata": {
    "collapsed": true
   },
   "outputs": [],
   "source": []
  }
 ],
 "metadata": {
  "kernelspec": {
   "display_name": "Python 3",
   "language": "python",
   "name": "python3"
  },
  "language_info": {
   "codemirror_mode": {
    "name": "ipython",
    "version": 3
   },
   "file_extension": ".py",
   "mimetype": "text/x-python",
   "name": "python",
   "nbconvert_exporter": "python",
   "pygments_lexer": "ipython3",
   "version": "3.6.1"
  }
 },
 "nbformat": 4,
 "nbformat_minor": 2
}
